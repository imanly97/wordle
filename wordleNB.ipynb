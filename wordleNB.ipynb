{
 "cells": [
  {
   "cell_type": "code",
   "execution_count": 3,
   "id": "2de307c1-76a5-45ec-93a7-c323565234b7",
   "metadata": {},
   "outputs": [],
   "source": [
    "import nltk\n",
    "from nltk.corpus import words\n",
    "import pandas as pd\n",
    "import numpy as np\n",
    "from collections import defaultdict"
   ]
  },
  {
   "cell_type": "code",
   "execution_count": 4,
   "id": "bb3c6483-d85c-4e31-8015-0bb018b09761",
   "metadata": {},
   "outputs": [],
   "source": [
    "wordss = words.words()"
   ]
  },
  {
   "cell_type": "code",
   "execution_count": 5,
   "id": "e044e71b-7ec9-4dce-8d1b-656e97bddfc1",
   "metadata": {},
   "outputs": [],
   "source": [
    "fives = []\n",
    "for i in wordss:\n",
    "    if len(i) == 5:\n",
    "        fives.append(i)"
   ]
  },
  {
   "cell_type": "code",
   "execution_count": 6,
   "id": "da78071f-361b-4af8-8ca5-37eae3766a5b",
   "metadata": {},
   "outputs": [],
   "source": [
    "pd.DataFrame(fives).to_csv('words.csv')\n",
    "words = pd.read_csv('words.csv')\n",
    "words = words.drop(columns = {'Unnamed: 0'})\n",
    "words = words['0']"
   ]
  },
  {
   "cell_type": "code",
   "execution_count": 7,
   "id": "741801a6-7289-49bc-9298-8a6220fba37e",
   "metadata": {},
   "outputs": [],
   "source": [
    "new_words = []\n",
    "for i in words:\n",
    "    if i[0].islower():\n",
    "        new_words.append(i)"
   ]
  },
  {
   "cell_type": "code",
   "execution_count": 8,
   "id": "89742b4d-241e-4ad7-a5a0-8380b6d6a16d",
   "metadata": {},
   "outputs": [],
   "source": [
    "pd.DataFrame(new_words).to_csv('words.csv')"
   ]
  },
  {
   "cell_type": "code",
   "execution_count": 9,
   "id": "470cd32f-e864-4dfc-a4f8-5a126bec156d",
   "metadata": {},
   "outputs": [],
   "source": [
    "words = pd.read_csv('words.csv')\n",
    "words = words.drop(columns = {'Unnamed: 0'})\n",
    "words = words['0']"
   ]
  },
  {
   "cell_type": "code",
   "execution_count": 10,
   "id": "be527dae-e22c-4a5a-8c49-7c8f987880e1",
   "metadata": {},
   "outputs": [],
   "source": [
    "letter_distributions = {}\n",
    "letter_distributions['a'] = 0\n",
    "letter_distributions['b'] = 0\n",
    "letter_distributions['c'] = 0\n",
    "letter_distributions['d'] = 0\n",
    "letter_distributions['e'] = 0\n",
    "letter_distributions['f'] = 0\n",
    "letter_distributions['g'] = 0\n",
    "letter_distributions['h'] = 0\n",
    "letter_distributions['i'] = 0\n",
    "letter_distributions['j'] = 0\n",
    "letter_distributions['k'] = 0\n",
    "letter_distributions['l'] = 0\n",
    "letter_distributions['m'] = 0\n",
    "letter_distributions['n'] = 0\n",
    "letter_distributions['o'] = 0\n",
    "letter_distributions['p'] = 0\n",
    "letter_distributions['q'] = 0\n",
    "letter_distributions['r'] = 0\n",
    "letter_distributions['s'] = 0\n",
    "letter_distributions['t'] = 0\n",
    "letter_distributions['u'] = 0\n",
    "letter_distributions['v'] = 0\n",
    "letter_distributions['w'] = 0\n",
    "letter_distributions['x'] = 0\n",
    "letter_distributions['y'] = 0\n",
    "letter_distributions['z'] = 0"
   ]
  },
  {
   "cell_type": "code",
   "execution_count": 11,
   "id": "d9a4964f-7be8-4f5c-8211-e5b91bf36874",
   "metadata": {},
   "outputs": [],
   "source": [
    "for word in words:\n",
    "    for let in word:\n",
    "        letter_distributions[let] = letter_distributions[let] + 1"
   ]
  },
  {
   "cell_type": "code",
   "execution_count": 12,
   "id": "35d855a3-19c2-4029-8f42-f8d0f4555d36",
   "metadata": {},
   "outputs": [],
   "source": [
    "let_counts = pd.DataFrame.from_records(letter_distributions, index = [0]).T"
   ]
  },
  {
   "cell_type": "code",
   "execution_count": 13,
   "id": "982fe714-d696-4ee0-afc6-ff9eb68782d6",
   "metadata": {},
   "outputs": [
    {
     "data": {
      "text/plain": [
       "(array([4543., 1181., 1585., 1426., 4377.,  680., 1129., 1373., 2634.,\n",
       "         166.,  900., 2420., 1323., 2258., 2858., 1321.,   88., 3125.,\n",
       "        2452., 2455., 1914.,  477.,  703.,  191., 1616.,  250.]),\n",
       " array([ 0.        ,  0.96153846,  1.92307692,  2.88461538,  3.84615385,\n",
       "         4.80769231,  5.76923077,  6.73076923,  7.69230769,  8.65384615,\n",
       "         9.61538462, 10.57692308, 11.53846154, 12.5       , 13.46153846,\n",
       "        14.42307692, 15.38461538, 16.34615385, 17.30769231, 18.26923077,\n",
       "        19.23076923, 20.19230769, 21.15384615, 22.11538462, 23.07692308,\n",
       "        24.03846154, 25.        ]),\n",
       " <BarContainer object of 26 artists>)"
      ]
     },
     "execution_count": 13,
     "metadata": {},
     "output_type": "execute_result"
    },
    {
     "data": {
      "image/png": "[encoded data removed]",
      "text/plain": [
       "<Figure size 432x288 with 1 Axes>"
      ]
     },
     "metadata": {
      "needs_background": "light"
     },
     "output_type": "display_data"
    }
   ],
   "source": [
    "import matplotlib.pyplot as plt\n",
    "val, weight = zip(*[(k, v) for k,v in letter_distributions.items()])\n",
    "plt.hist(val, weights=weight, bins = 26)"
   ]
  },
  {
   "cell_type": "code",
   "execution_count": 14,
   "id": "80d36aff-c9e9-44e9-a60f-962243baf4a3",
   "metadata": {},
   "outputs": [
    {
     "data": {
      "text/plain": [
       "array([4543])"
      ]
     },
     "execution_count": 14,
     "metadata": {},
     "output_type": "execute_result"
    }
   ],
   "source": [
    "let_counts.loc['a'].values"
   ]
  },
  {
   "cell_type": "code",
   "execution_count": 35,
   "id": "9de72d13-4103-4e42-a4fa-9a2c548db729",
   "metadata": {},
   "outputs": [],
   "source": [
    "running = True\n",
    "word = [0,0,0,0,0]\n",
    "guess = 'peels'\n",
    "hints = 'nynnn'\n",
    "\n",
    "#while running == True:\n",
    "pos = 0\n",
    "yellow = []\n",
    "used = []\n",
    "\n",
    "for let in hints:\n",
    "    if let == 'g':\n",
    "        word[pos] = guess[pos]\n",
    "    if let == 'y':\n",
    "        yellow.append(guess[pos])\n",
    "    if let == 'n':\n",
    "        used.append(guess[pos])\n",
    "    pos += 1\n",
    "\n",
    "#potential_words = find_potential_words(potens, used, word, words)\n",
    "#print('Potential words:', len(potential_words))\n",
    "\n",
    "#find_probs(let_counts, potential_words)\n",
    "\n",
    "def find_potential_words(yellow, used, word, words):\n",
    "    count = 0\n",
    "    for letter in word:\n",
    "        if letter == 0:\n",
    "            count += 1\n",
    "    if count == 5:\n",
    "        no_green_temp = []\n",
    "        for word in words:\n",
    "            for letter in word:\n",
    "                if (letter not in used) or (letter in yellow):\n",
    "                    if word not in no_green_temp:\n",
    "                        no_green_temp.append(word)\n",
    "\n",
    "        return no_green_temp\n",
    "    \n",
    "    else:\n",
    "        #get all words with green letters\n",
    "        first_temp = []\n",
    "        \n",
    "        for letter in word: \n",
    "            position = 0\n",
    "            if letter != 0:\n",
    "                for w in words:\n",
    "                    if letter == w[position]:\n",
    "                        first_temp.append(w)\n",
    "\n",
    "            position += 1\n",
    "\n",
    "        #Trim unuseful words\n",
    "        second_temp = []\n",
    "        for word in first_temp:\n",
    "            for letter in word:\n",
    "                if (letter not in used) or (letter in yellow):\n",
    "                    second_temp.append(word)\n",
    "\n",
    "        return second_temp\n",
    "\n",
    "def find_probs(let_counts, potential_words):\n",
    "    word_counts = []\n",
    "\n",
    "    for word in potential_words:\n",
    "        t_val = 0\n",
    "\n",
    "        for letter in word:\n",
    "            t_val += let_counts.loc[letter].values\n",
    "        word_counts.append([word,t_val])\n",
    "\n",
    "    guesses = pd.DataFrame(word_counts)\n",
    "    guesses['Letter Frequency'] = guesses[1].apply(lambda x : int(x))\n",
    "    guesses = guesses.sort_values(by = 'Letter Frequency', ascending = False)\n",
    "    guesses = guesses.drop(columns = {1})\n",
    "    guesses = guesses.rename(columns = {0:'Word'})\n",
    "    print(guesses.head(50))\n",
    "          "
   ]
  },
  {
   "cell_type": "code",
   "execution_count": null,
   "id": "da6ca027-ec33-42e1-980b-374b389d1061",
   "metadata": {},
   "outputs": [],
   "source": []
  },
  {
   "cell_type": "code",
   "execution_count": 36,
   "id": "2543f9eb-34ed-4a4f-9797-5c6154f29f8a",
   "metadata": {},
   "outputs": [
    {
     "name": "stdout",
     "output_type": "stream",
     "text": [
      "[] ['x', 'x', 'x', 'x', 'x'] [0, 0, 0, 0, 0]\n"
     ]
    }
   ],
   "source": [
    "running = True\n",
    "word = [0,0,0,0,0]\n",
    "guess = 'xxxxx'\n",
    "hints = 'nnnnn'\n",
    "\n",
    "#while running == True:\n",
    "pos = 0\n",
    "yellow = []\n",
    "used = []\n",
    "\n",
    "for let in hints:\n",
    "    if let == 'g':\n",
    "        word[pos] = guess[pos]\n",
    "    if let == 'y':\n",
    "        yellow.append(guess[pos])\n",
    "    if let == 'n':\n",
    "        used.append(guess[pos])\n",
    "    pos += 1\n",
    "    \n",
    "print(yellow, used, word)"
   ]
  },
  {
   "cell_type": "code",
   "execution_count": 37,
   "id": "180e545b-3944-4db5-98b1-979b4c26b311",
   "metadata": {},
   "outputs": [
    {
     "data": {
      "text/plain": [
       "8497"
      ]
     },
     "execution_count": 37,
     "metadata": {},
     "output_type": "execute_result"
    }
   ],
   "source": [
    "potential_words = find_potential_words(yellow, used, word, words)\n",
    "\n",
    "len(potential_words)"
   ]
  },
  {
   "cell_type": "code",
   "execution_count": 38,
   "id": "23bdf39f-fdd9-4f5e-b7ee-08c7201dd8e9",
   "metadata": {},
   "outputs": [
    {
     "name": "stdout",
     "output_type": "stream",
     "text": [
      "       Word  Letter Frequency\n",
      "413   arara             19879\n",
      "423   arear             19713\n",
      "5778  reree             19381\n",
      "122   aerie             19056\n",
      "7205  tarea             19043\n",
      "5671  reaal             19008\n",
      "422   areal             19008\n",
      "2309  eerie             18890\n",
      "7248  teaer             18877\n",
      "430   arete             18877\n",
      "2288  eater             18877\n",
      "2286  easer             18874\n",
      "2406  erase             18874\n",
      "426   arena             18846\n",
      "343   anear             18846\n",
      "425   areel             18842\n",
      "5724  reese             18708\n",
      "5786  resee             18708\n",
      "2421  esere             18708\n",
      "452   arnee             18680\n",
      "2308  eeler             18676\n",
      "558   aurae             18502\n",
      "208   alala             18469\n",
      "485   asana             18339\n",
      "51    acara             18339\n",
      "409   araca             18339\n",
      "214   alate             18338\n",
      "484   asale             18335\n",
      "7252  tease             18204\n",
      "6256  setae             18204\n",
      "8404  yeara             18204\n",
      "454   aroar             18194\n",
      "2322  elate             18172\n",
      "526   atlee             18172\n",
      "4024  lease             18169\n",
      "2285  easel             18169\n",
      "341   anana             18145\n",
      "421   aread             18014\n",
      "2363  enate             18010\n",
      "2287  eaten             18010\n",
      "344   anele             17975\n",
      "408   araba             17935\n",
      "4325  marae             17911\n",
      "2405  erade             17848\n",
      "2282  eared             17848\n",
      "4720  neese             17841\n",
      "4719  neele             17809\n",
      "465   arrie             17804\n",
      "189   airer             17804\n",
      "553   aulae             17797\n"
     ]
    }
   ],
   "source": [
    "find_probs(let_counts, potential_words)"
   ]
  },
  {
   "cell_type": "code",
   "execution_count": 4,
   "id": "c1952520-0728-4a12-b121-4be9327798f1",
   "metadata": {},
   "outputs": [
    {
     "ename": "TypeError",
     "evalue": "'LazyCorpusLoader' object is not iterable",
     "output_type": "error",
     "traceback": [
      "\u001b[0;31m---------------------------------------------------------------------------\u001b[0m",
      "\u001b[0;31mTypeError\u001b[0m                                 Traceback (most recent call last)",
      "\u001b[0;32m/var/folders/8l/778nkjdj62dfnkv94qpdsnd80000gn/T/ipykernel_60044/777630248.py\u001b[0m in \u001b[0;36m<module>\u001b[0;34m\u001b[0m\n\u001b[1;32m      8\u001b[0m \u001b[0;34m\u001b[0m\u001b[0m\n\u001b[1;32m      9\u001b[0m \u001b[0mpos\u001b[0m \u001b[0;34m=\u001b[0m \u001b[0;36m0\u001b[0m\u001b[0;34m\u001b[0m\u001b[0;34m\u001b[0m\u001b[0m\n\u001b[0;32m---> 10\u001b[0;31m \u001b[0;32mfor\u001b[0m \u001b[0mtword\u001b[0m \u001b[0;32min\u001b[0m \u001b[0mwords\u001b[0m\u001b[0;34m:\u001b[0m\u001b[0;34m\u001b[0m\u001b[0;34m\u001b[0m\u001b[0m\n\u001b[0m\u001b[1;32m     11\u001b[0m     \u001b[0mgreen_count\u001b[0m \u001b[0;34m=\u001b[0m \u001b[0;36m0\u001b[0m\u001b[0;34m\u001b[0m\u001b[0;34m\u001b[0m\u001b[0m\n\u001b[1;32m     12\u001b[0m \u001b[0;34m\u001b[0m\u001b[0m\n",
      "\u001b[0;31mTypeError\u001b[0m: 'LazyCorpusLoader' object is not iterable"
     ]
    }
   ],
   "source": [
    "count = 3\n",
    "\n",
    "first_temp = []\n",
    "word = [0, 'o', 0, 0, 'o']\n",
    "used = ['r', 'e', 'a', 'd', 'y', 't']\n",
    "yellow = ['l']\n",
    "\n",
    "\n",
    "pos = 0\n",
    "for tword in words:\n",
    "    green_count = 0\n",
    "\n",
    "    for i in range(len(tword)):\n",
    "        \n",
    "        if word[i] == tword[i]:\n",
    "            \n",
    "            green_count += 1\n",
    "            \n",
    "    if green_count == (5-count):\n",
    "        first_temp.append(tword)\n",
    "\n",
    "    \n",
    "print(first_temp)\n",
    "#Trim unuseful words\n",
    "second_temp = []\n",
    "\n",
    "for w in first_temp:\n",
    "    if all(x in list(w) for x in yellow):\n",
    "        second_temp.append(w)\n",
    "            \n",
    "            \n",
    "print(second_temp)\n",
    "\n",
    "third_temp = []\n",
    "\n",
    "for ws in second_temp:\n",
    "    if any(x in list(ws) for x in used):\n",
    "        pass\n",
    "    else:\n",
    "        third_temp.append(ws)\n",
    "        \n",
    "third_temp"
   ]
  },
  {
   "cell_type": "code",
   "execution_count": 322,
   "id": "a9d0d9d3-45af-4fae-8554-bdc1ed5d5671",
   "metadata": {},
   "outputs": [
    {
     "name": "stdout",
     "output_type": "stream",
     "text": [
      "0\n",
      "3\n",
      "4\n"
     ]
    }
   ],
   "source": [
    "test = ['b', 0,0,'a', 'd']\n",
    "first_temp = []\n",
    "count = 2\n",
    "green_count = 0\n",
    "aword = 'bread'\n",
    "\n",
    "\n",
    "for i in range(5):\n",
    "\n",
    "    if test[i] == list('bread')[i]:\n",
    "\n",
    "        print(i)\n",
    "\n",
    "        green_count += 1\n",
    "        #print(green_count)\n",
    "if green_count == (5-count):\n",
    "    first_temp.append(aword)"
   ]
  },
  {
   "cell_type": "code",
   "execution_count": 323,
   "id": "dc00fe61-9a3c-4aaf-a4ff-ee8dbf347c56",
   "metadata": {},
   "outputs": [
    {
     "data": {
      "text/plain": [
       "['bread']"
      ]
     },
     "execution_count": 323,
     "metadata": {},
     "output_type": "execute_result"
    }
   ],
   "source": [
    "first_temp"
   ]
  },
  {
   "cell_type": "code",
   "execution_count": 337,
   "id": "0129738e-6783-4191-9654-61f4f160d00c",
   "metadata": {},
   "outputs": [
    {
     "data": {
      "text/plain": [
       "'o'"
      ]
     },
     "execution_count": 337,
     "metadata": {},
     "output_type": "execute_result"
    }
   ],
   "source": [
    "word = [0, 'o', 0, 0, 'o']\n"
   ]
  },
  {
   "cell_type": "code",
   "execution_count": 5,
   "id": "c042ae05-b621-4cf6-8c92-c8842774bc58",
   "metadata": {},
   "outputs": [],
   "source": [
    "def find_potential_words(yellow, used, word, words):\n",
    "    count = 0\n",
    "    for letter in word:\n",
    "        if letter == 0:\n",
    "            count += 1\n",
    "    if count == 5:\n",
    "        \n",
    "        no_green_temp = []\n",
    "        for word in words:\n",
    "            for letter in word:\n",
    "                if (letter not in used) or (letter in yellow):\n",
    "                    if word not in no_green_temp:\n",
    "                        no_green_temp.append(word)\n",
    "\n",
    "        return no_green_temp\n",
    "    \n",
    "    else:\n",
    "        #get all words with green letters\n",
    "    \n",
    "        first_temp = []\n",
    "\n",
    "        for w in words: \n",
    "            for i in range(len(w)):\n",
    "                if word[i] == w[i]:\n",
    "                    first_temp.append(w)\n",
    "    \n",
    "        #Trim unuseful words\n",
    "        second_temp = []\n",
    "        for word in first_temp:\n",
    "            for letter in word:\n",
    "                if (letter not in used) or (letter in yellow):\n",
    "                    second_temp.append(word)\n",
    "                    break\n",
    "\n",
    "        return second_temp\n",
    "\n",
    "def find_probs(let_counts, potential_words):\n",
    "    word_counts = []\n",
    "\n",
    "    for word in potential_words:\n",
    "        t_val = 0\n",
    "\n",
    "        for letter in word:\n",
    "            t_val += let_counts.loc[letter].values\n",
    "        word_counts.append([word,t_val])\n",
    "\n",
    "    guesses = pd.DataFrame(word_counts)\n",
    "    print(guesses)\n",
    "    guesses['Letter Frequency'] = guesses[1].apply(lambda x : int(x)/43445)\n",
    "    guesses = guesses.sort_values(by = 'Letter Frequency', ascending = False)\n",
    "    guesses = guesses.drop(columns = {1})\n",
    "    guesses = guesses.rename(columns = {0:'Word'})\n",
    "    print(guesses.head())"
   ]
  },
  {
   "cell_type": "code",
   "execution_count": 100,
   "id": "8072692e-fd27-4de4-b36d-95af2a40952b",
   "metadata": {},
   "outputs": [
    {
     "name": "stdout",
     "output_type": "stream",
     "text": [
      "y 0\n",
      "y 1\n",
      "n 2\n",
      "g 3\n",
      "g 4\n",
      "Potential words: 0\n"
     ]
    },
    {
     "ename": "AttributeError",
     "evalue": "'str' object has no attribute 'append'",
     "output_type": "error",
     "traceback": [
      "\u001b[0;31m---------------------------------------------------------------------------\u001b[0m",
      "\u001b[0;31mAttributeError\u001b[0m                            Traceback (most recent call last)",
      "\u001b[0;32m/var/folders/8l/778nkjdj62dfnkv94qpdsnd80000gn/T/ipykernel_60044/4186144120.py\u001b[0m in \u001b[0;36m<module>\u001b[0;34m\u001b[0m\n\u001b[1;32m    163\u001b[0m \u001b[0mprint\u001b[0m\u001b[0;34m(\u001b[0m\u001b[0;34m'Potential words:'\u001b[0m\u001b[0;34m,\u001b[0m \u001b[0mlen\u001b[0m\u001b[0;34m(\u001b[0m\u001b[0mpotential_words\u001b[0m\u001b[0;34m)\u001b[0m\u001b[0;34m)\u001b[0m\u001b[0;34m\u001b[0m\u001b[0;34m\u001b[0m\u001b[0m\n\u001b[1;32m    164\u001b[0m \u001b[0;34m\u001b[0m\u001b[0m\n\u001b[0;32m--> 165\u001b[0;31m \u001b[0mpotential_words\u001b[0m \u001b[0;34m=\u001b[0m \u001b[0mpruneYellow\u001b[0m\u001b[0;34m(\u001b[0m\u001b[0mused_words\u001b[0m\u001b[0;34m,\u001b[0m \u001b[0mused_hints\u001b[0m\u001b[0;34m,\u001b[0m \u001b[0mpotential_words\u001b[0m\u001b[0;34m,\u001b[0m \u001b[0myellow_pos\u001b[0m\u001b[0;34m)\u001b[0m\u001b[0;34m\u001b[0m\u001b[0;34m\u001b[0m\u001b[0m\n\u001b[0m\u001b[1;32m    166\u001b[0m \u001b[0;34m\u001b[0m\u001b[0m\n\u001b[1;32m    167\u001b[0m \u001b[0mguesses\u001b[0m \u001b[0;34m=\u001b[0m \u001b[0mfind_probs\u001b[0m\u001b[0;34m(\u001b[0m\u001b[0mlet_counts\u001b[0m\u001b[0;34m,\u001b[0m \u001b[0mpotential_words\u001b[0m\u001b[0;34m)\u001b[0m\u001b[0;34m\u001b[0m\u001b[0;34m\u001b[0m\u001b[0m\n",
      "\u001b[0;32m/var/folders/8l/778nkjdj62dfnkv94qpdsnd80000gn/T/ipykernel_60044/3420091949.py\u001b[0m in \u001b[0;36mpruneYellow\u001b[0;34m(used_words, used_hints, potential_words, yellow_pos)\u001b[0m\n\u001b[1;32m      2\u001b[0m \u001b[0;34m\u001b[0m\u001b[0m\n\u001b[1;32m      3\u001b[0m     \u001b[0mres\u001b[0m \u001b[0;34m=\u001b[0m \u001b[0;34m[\u001b[0m\u001b[0;34m]\u001b[0m\u001b[0;34m\u001b[0m\u001b[0;34m\u001b[0m\u001b[0m\n\u001b[0;32m----> 4\u001b[0;31m     \u001b[0myellow_pos\u001b[0m\u001b[0;34m[\u001b[0m\u001b[0;34m'0'\u001b[0m\u001b[0;34m]\u001b[0m\u001b[0;34m.\u001b[0m\u001b[0mappend\u001b[0m\u001b[0;34m(\u001b[0m\u001b[0;34m'z'\u001b[0m\u001b[0;34m)\u001b[0m\u001b[0;34m\u001b[0m\u001b[0;34m\u001b[0m\u001b[0m\n\u001b[0m\u001b[1;32m      5\u001b[0m     \u001b[0myellow_pos\u001b[0m\u001b[0;34m[\u001b[0m\u001b[0;34m'0'\u001b[0m\u001b[0;34m]\u001b[0m\u001b[0;34m.\u001b[0m\u001b[0mappend\u001b[0m\u001b[0;34m(\u001b[0m\u001b[0;34m't'\u001b[0m\u001b[0;34m)\u001b[0m\u001b[0;34m\u001b[0m\u001b[0;34m\u001b[0m\u001b[0m\n\u001b[1;32m      6\u001b[0m \u001b[0;34m\u001b[0m\u001b[0m\n",
      "\u001b[0;31mAttributeError\u001b[0m: 'str' object has no attribute 'append'"
     ]
    }
   ],
   "source": [
    "import nltk\n",
    "from nltk.corpus import words\n",
    "import pandas as pd\n",
    "import numpy as np\n",
    "import matplotlib.pyplot as plt\n",
    "\n",
    "def find_potential_words(yellow, used, word, words):\n",
    "    count = 0\n",
    "    for letter in word:\n",
    "        if letter == 0:\n",
    "            count += 1\n",
    "            \n",
    "    if count == 5:\n",
    "        \n",
    "        second_temp = []\n",
    "        for w in words:\n",
    "            if all(x in list(w) for x in yellow):\n",
    "                second_temp.append(w)\n",
    "        \n",
    "        third_temp = []\n",
    "\n",
    "        for ws in second_temp:\n",
    "            if not any(x in list(ws) for x in used):\n",
    "                third_temp.append(ws)\n",
    "                \n",
    "       \n",
    "        return third_temp\n",
    "    \n",
    "    else:\n",
    "        first_temp = []\n",
    "        \n",
    "        for tword in words:\n",
    "            green_count = 0\n",
    "\n",
    "            for i in range(len(tword)):\n",
    "\n",
    "                if word[i] == tword[i]:\n",
    "\n",
    "                    green_count += 1\n",
    "\n",
    "            if green_count == (5-count):\n",
    "                first_temp.append(tword)\n",
    "\n",
    "        #Trim unuseful words\n",
    "        second_temp = []\n",
    "\n",
    "        for w in first_temp:\n",
    "            if all(x in list(w) for x in yellow):\n",
    "                second_temp.append(w)\n",
    "\n",
    "        third_temp = []\n",
    "\n",
    "        for ws in second_temp:\n",
    "            if any(x in list(ws) for x in used):\n",
    "                pass\n",
    "            else:\n",
    "                third_temp.append(ws)\n",
    "\n",
    "     \n",
    "        \n",
    "        return third_temp\n",
    "\n",
    "def find_probs(let_counts, potential_words):\n",
    "    word_counts = []\n",
    "\n",
    "    for word in potential_words:\n",
    "        t_val = 0\n",
    "\n",
    "        for letter in word:\n",
    "            t_val += let_counts.loc[letter].values\n",
    "        word_counts.append([word,t_val])\n",
    "\n",
    "    \n",
    "    guesses = pd.DataFrame(word_counts)\n",
    "    guesses['Letter Frequency'] = guesses[1].apply(lambda x : int(x)/43445)\n",
    "    guesses = guesses.sort_values(by = 'Letter Frequency', ascending = False)\n",
    "    guesses = guesses.drop(columns = {1})\n",
    "    guesses = guesses.rename(columns = {0:'Word'})\n",
    "    print(guesses.head(10))\n",
    "    \n",
    "    return guesses\n",
    "\n",
    "          \n",
    "\n",
    "\n",
    "\n",
    "\n",
    "words = pd.read_csv('words.csv')\n",
    "words = words.drop(columns = {'Unnamed: 0'})\n",
    "words = words['0']\n",
    "\n",
    "letter_distributions = {}\n",
    "letter_distributions['a'] = 0\n",
    "letter_distributions['b'] = 0\n",
    "letter_distributions['c'] = 0\n",
    "letter_distributions['d'] = 0\n",
    "letter_distributions['e'] = 0\n",
    "letter_distributions['f'] = 0\n",
    "letter_distributions['g'] = 0\n",
    "letter_distributions['h'] = 0\n",
    "letter_distributions['i'] = 0\n",
    "letter_distributions['j'] = 0\n",
    "letter_distributions['k'] = 0\n",
    "letter_distributions['l'] = 0\n",
    "letter_distributions['m'] = 0\n",
    "letter_distributions['n'] = 0\n",
    "letter_distributions['o'] = 0\n",
    "letter_distributions['p'] = 0\n",
    "letter_distributions['q'] = 0\n",
    "letter_distributions['r'] = 0\n",
    "letter_distributions['s'] = 0\n",
    "letter_distributions['t'] = 0\n",
    "letter_distributions['u'] = 0\n",
    "letter_distributions['v'] = 0\n",
    "letter_distributions['w'] = 0\n",
    "letter_distributions['x'] = 0\n",
    "letter_distributions['y'] = 0\n",
    "letter_distributions['z'] = 0\n",
    "\n",
    "for word in words:\n",
    "    for let in word:\n",
    "        letter_distributions[let] = letter_distributions[let] + 1\n",
    "\n",
    "let_counts = pd.DataFrame.from_records(letter_distributions, index = [0]).T\n",
    "\n",
    "running = True\n",
    "word = [0,0,0,0,0]\n",
    "used = []\n",
    "yellow = []\n",
    "hints = 'yyngg'\n",
    "guess = 'tears'\n",
    "yellow_pos = {}\n",
    "yellow_pos['0'] = []\n",
    "yellow_pos['1'] = []\n",
    "yellow_pos['2'] = []\n",
    "yellow_pos['3'] = []\n",
    "yellow_pos['4'] = []\n",
    "\n",
    "#while running = True:\n",
    "    #guess = str(input(\"Enter your guess in lowercase! \"))\n",
    "    #hints = str(input(\"Enter your hint results in the form: ynygn (Yellow, None, Green) \"))\n",
    "pos = 0\n",
    "used_words = []\n",
    "used_hints = []\n",
    "used_words.append(guess)\n",
    "used_hints.append(hints)\n",
    "\n",
    "for let in hints:\n",
    "    print(let,pos)\n",
    "    if let == 'g':\n",
    "        word[pos] = guess[pos]\n",
    "    if let == 'y':\n",
    "        yellow.append(guess[pos])\n",
    "        yellow_pos[str(pos)] = guess[pos]\n",
    "        \n",
    "    if let == 'n' and let not in yellow:\n",
    "        used.append(guess[pos])\n",
    "    \n",
    "    pos += 1\n",
    "    \n",
    "\n",
    "potential_words = find_potential_words(yellow, used, word, words)\n",
    "print('Potential words:', len(potential_words))\n",
    "\n",
    "potential_words = pruneYellow(used_words, used_hints, potential_words, yellow_pos)\n",
    "\n",
    "guesses = find_probs(let_counts, potential_words)\n",
    "\n",
    "\n",
    "if len(guesses) == 1:\n",
    "    running = False\n",
    "\n",
    "\n",
    "count = 0\n",
    "for letter in word:\n",
    "    if letter != 0:\n",
    "        count += 1\n",
    "    if count == 5:\n",
    "        running = False\n"
   ]
  },
  {
   "cell_type": "code",
   "execution_count": 29,
   "id": "b4fec440-963a-4f43-9971-c5eb0db69ed3",
   "metadata": {},
   "outputs": [
    {
     "data": {
      "text/plain": [
       "False"
      ]
     },
     "execution_count": 29,
     "metadata": {},
     "output_type": "execute_result"
    }
   ],
   "source": [
    "used = ['x']\n",
    "any(x in list('bread') for x in used)"
   ]
  },
  {
   "cell_type": "code",
   "execution_count": null,
   "id": "f0b35f54-8eda-4f72-887b-2ba0a5a1a454",
   "metadata": {},
   "outputs": [],
   "source": [
    "yellow_pos = {}\n",
    "yellow_pos['0'] = []\n",
    "yellow_pos['1'] = []\n",
    "yellow_pos['2'] = []\n",
    "yellow_pos['3'] = []\n",
    "yellow_pos['4'] = []\n",
    "\n",
    "used_words = ['bread']\n",
    "used_hints = ['nnnyn']\n",
    "\n",
    "potential_words = find_potential_words(yellow, used, word, words)\n",
    "pruneYellow(used_words, used_hints, words, yellow_pos)"
   ]
  },
  {
   "cell_type": "code",
   "execution_count": 103,
   "id": "9ccf7271-56c9-40b8-b307-2eb356c98740",
   "metadata": {},
   "outputs": [],
   "source": [
    "def pruneYellow(used_words, used_hints, potential_words, yellow_pos):\n",
    "    \n",
    "    res = []\n",
    "    yellow_pos['0'].append('z')\n",
    "    yellow_pos['0'].append('t')\n",
    "    \n",
    "    for w in potential_words:\n",
    "        t = 0\n",
    "       \n",
    "        for letter in w:\n",
    "            \n",
    "            if letter in yellow_pos.values():\n",
    "                if letter not in yellow_pos[str(t)]:\n",
    "                    res.append(w)\n",
    "                    break\n",
    "                else:\n",
    "                    pass\n",
    "            else:\n",
    "                res.append(w)\n",
    "                \n",
    "            t += 1\n",
    "    result = []\n",
    "    [result.append(x) for x in res if x not in result]\n",
    "    return result\n",
    "\n"
   ]
  },
  {
   "cell_type": "code",
   "execution_count": 99,
   "id": "ca295161-576a-4a6c-90f7-875d0952a07e",
   "metadata": {},
   "outputs": [
    {
     "data": {
      "text/plain": [
       "[]"
      ]
     },
     "execution_count": 99,
     "metadata": {},
     "output_type": "execute_result"
    }
   ],
   "source": [
    "potential_words"
   ]
  },
  {
   "cell_type": "code",
   "execution_count": null,
   "id": "1ebf25dd-eca0-42fb-95a2-352d11af9f21",
   "metadata": {},
   "outputs": [],
   "source": []
  }
 ],
 "metadata": {
  "kernelspec": {
   "display_name": "Python 3 (ipykernel)",
   "language": "python",
   "name": "python3"
  },
  "language_info": {
   "codemirror_mode": {
    "name": "ipython",
    "version": 3
   },
   "file_extension": ".py",
   "mimetype": "text/x-python",
   "name": "python",
   "nbconvert_exporter": "python",
   "pygments_lexer": "ipython3",
   "version": "3.9.7"
  }
 },
 "nbformat": 4,
 "nbformat_minor": 5
}
